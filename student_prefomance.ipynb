{
 "cells": [
  {
   "cell_type": "markdown",
   "metadata": {},
   "source": [
    "**Описание работы.**\n",
    "\n",
    "Любой бизнес хочет максимизировать количество клиентов. Для достижения этой цели важно не только пытаться привлечь новых, но и удерживать уже существующих. Удержать клиента обойдется компании дешевле, чем привлечь нового. Кроме того, новый клиент может оказаться слабо заинтересованным в услугах бизнеса и с ним будет сложно работать, тогда как о старых клиентах уже есть необходимые данные по взаимодействию с сервисом.\n",
    "\n",
    "Соответственно, прогнозируя отток, мы можем вовремя среагировать и попытаться удержать клиента, который хочет уйти. Опираясь на данные об услугах, которыми пользуется клиент, мы можем сделать ему специальное предложение, пытаясь изменить его решение об уходе от оператора. Благодаря этому задача удержания будет легче в реализации, чем задача привлечения новых пользователей, о которых мы еще ничего не знаем.\n",
    "\n",
    "Нам предоставлен набор данных от телекоммуникационной компании. В данных содержится информация о почти шести тысячах пользователей, их демографических характеристиках, услугах, которыми они пользуются, длительности пользования услугами оператора, методе оплаты, размере оплаты.\n",
    "\n",
    "Cтоит задача проанализировать данные и спрогнозировать отток пользователей (выявить людей, которые продлят контракт и которые не продлят)."
   ]
  },
  {
   "cell_type": "markdown",
   "metadata": {},
   "source": [
    "**Содержание**\n",
    "\n",
    "[Разведочный анализ данных](#sectionEDA)  \n",
    "1. [Общая информация](#section1)  \n",
    "    1.1. [Набор данных](#section11)  \n",
    "    \n",
    "2. [Работа с данными](#section2)  \n",
    "    2.1. [Знакомство с датасетом](#section21)  \n",
    "    2.2. [Изучение пропущенных данных](#section22)  \n",
    "    2.3. [Изучение состава всех столбцов](#section23)  \n",
    "    2.4. [Статистический анализ данных](#section24)  \n",
    "    2.4.1. [Вероятностное распределение каждого столбца](#section241)  \n",
    "    2.4.2. [А/В тестирование](#section242)  \n",
    "    2.5. [Распределение средних каждой группы студентов](#section25)  \n",
    "    2.6. [Исследование вляиния пола и степени подготовленности к тесту на оценки по дисциплинам](#section26)  \n",
    "    2.6.1. [Исследование по математике](#section261)  \n",
    "    2.6.2. [Исследование по чтению](#section262)  \n",
    "    2.6.3. [Исследование по письму](#section263)  \n",
    "    2.7. [Исследование влияния этнической принадлежности и уровня образования родителей на оценки по дисциплинам](#section27)   \n",
    "    2.8. [Исследование влияния столового питания на оценки по дисциплинам](#section28) \n",
    "\n",
    "[Вывод](#sectionCONCLUSION)"
   ]
  },
  {
   "cell_type": "code",
   "execution_count": 372,
   "metadata": {
    "pycharm": {
     "is_executing": false
    }
   },
   "outputs": [],
   "source": [
    "# импортируем нужные библиотеки\n",
    "import numpy as np\n",
    "import pandas as pd\n",
    "pd.set_option('display.max_columns', None)\n",
    "##pd.set_option('display.max_rows', None)\n",
    "import math\n",
    "from scipy import stats\n",
    "from scipy.stats import skew, norm\n",
    "import itertools\n",
    "\n",
    "import matplotlib.pyplot as plt\n",
    "import matplotlib\n",
    "palette = plt.get_cmap('Set2')\n",
    "import seaborn as sns\n",
    "plt.style.use('seaborn-darkgrid')\n",
    "##%matplotlib inline\n",
    "import missingno as msno\n",
    "import plotly.express as px\n",
    "\n",
    "from datetime import datetime, timedelta\n",
    "import os\n",
    "\n",
    "import warnings\n",
    "warnings.filterwarnings(\"ignore\")"
   ]
  },
  {
   "cell_type": "markdown",
   "metadata": {},
   "source": [
    "# Разведочный анализ данных. <a id=\"sectionEDA\"></a>\n",
    "## 1. Общая информация. <a id=\"section1\"></a>\n",
    "### 1.1. Набор данных. <a id=\"section11\"></a>"
   ]
  },
  {
   "cell_type": "code",
   "execution_count": 373,
   "metadata": {
    "pycharm": {
     "is_executing": false
    }
   },
   "outputs": [],
   "source": [
    "student_perfomance_df = pd.read_csv('StudentsPerformance.csv')"
   ]
  },
  {
   "cell_type": "markdown",
   "metadata": {},
   "source": [
    "## 2. Работа с данными. <a id=\"section2\"></a>\n",
    "### 2.1. Знакомство с датасетом. <a id=\"section21\"></a>"
   ]
  },
  {
   "cell_type": "code",
   "execution_count": 374,
   "metadata": {
    "pycharm": {
     "is_executing": false
    },
    "scrolled": true
   },
   "outputs": [
    {
     "data": {
      "text/html": [
       "<div>\n",
       "<style scoped>\n",
       "    .dataframe tbody tr th:only-of-type {\n",
       "        vertical-align: middle;\n",
       "    }\n",
       "\n",
       "    .dataframe tbody tr th {\n",
       "        vertical-align: top;\n",
       "    }\n",
       "\n",
       "    .dataframe thead th {\n",
       "        text-align: right;\n",
       "    }\n",
       "</style>\n",
       "<table border=\"1\" class=\"dataframe\">\n",
       "  <thead>\n",
       "    <tr style=\"text-align: right;\">\n",
       "      <th></th>\n",
       "      <th>gender</th>\n",
       "      <th>race/ethnicity</th>\n",
       "      <th>parental level of education</th>\n",
       "      <th>lunch</th>\n",
       "      <th>test preparation course</th>\n",
       "      <th>math score</th>\n",
       "      <th>reading score</th>\n",
       "      <th>writing score</th>\n",
       "    </tr>\n",
       "  </thead>\n",
       "  <tbody>\n",
       "    <tr>\n",
       "      <th>0</th>\n",
       "      <td>female</td>\n",
       "      <td>group B</td>\n",
       "      <td>bachelor's degree</td>\n",
       "      <td>standard</td>\n",
       "      <td>none</td>\n",
       "      <td>72</td>\n",
       "      <td>72</td>\n",
       "      <td>74</td>\n",
       "    </tr>\n",
       "    <tr>\n",
       "      <th>1</th>\n",
       "      <td>female</td>\n",
       "      <td>group C</td>\n",
       "      <td>some college</td>\n",
       "      <td>standard</td>\n",
       "      <td>completed</td>\n",
       "      <td>69</td>\n",
       "      <td>90</td>\n",
       "      <td>88</td>\n",
       "    </tr>\n",
       "    <tr>\n",
       "      <th>2</th>\n",
       "      <td>female</td>\n",
       "      <td>group B</td>\n",
       "      <td>master's degree</td>\n",
       "      <td>standard</td>\n",
       "      <td>none</td>\n",
       "      <td>90</td>\n",
       "      <td>95</td>\n",
       "      <td>93</td>\n",
       "    </tr>\n",
       "    <tr>\n",
       "      <th>3</th>\n",
       "      <td>male</td>\n",
       "      <td>group A</td>\n",
       "      <td>associate's degree</td>\n",
       "      <td>free/reduced</td>\n",
       "      <td>none</td>\n",
       "      <td>47</td>\n",
       "      <td>57</td>\n",
       "      <td>44</td>\n",
       "    </tr>\n",
       "    <tr>\n",
       "      <th>4</th>\n",
       "      <td>male</td>\n",
       "      <td>group C</td>\n",
       "      <td>some college</td>\n",
       "      <td>standard</td>\n",
       "      <td>none</td>\n",
       "      <td>76</td>\n",
       "      <td>78</td>\n",
       "      <td>75</td>\n",
       "    </tr>\n",
       "  </tbody>\n",
       "</table>\n",
       "</div>"
      ],
      "text/plain": [
       "   gender race/ethnicity parental level of education         lunch  \\\n",
       "0  female        group B           bachelor's degree      standard   \n",
       "1  female        group C                some college      standard   \n",
       "2  female        group B             master's degree      standard   \n",
       "3    male        group A          associate's degree  free/reduced   \n",
       "4    male        group C                some college      standard   \n",
       "\n",
       "  test preparation course  math score  reading score  writing score  \n",
       "0                    none          72             72             74  \n",
       "1               completed          69             90             88  \n",
       "2                    none          90             95             93  \n",
       "3                    none          47             57             44  \n",
       "4                    none          76             78             75  "
      ]
     },
     "execution_count": 374,
     "metadata": {},
     "output_type": "execute_result"
    }
   ],
   "source": [
    "student_perfomance_df.head()"
   ]
  },
  {
   "cell_type": "code",
   "execution_count": 375,
   "metadata": {},
   "outputs": [
    {
     "data": {
      "text/plain": [
       "(1000, 8)"
      ]
     },
     "execution_count": 375,
     "metadata": {},
     "output_type": "execute_result"
    }
   ],
   "source": [
    "student_perfomance_df.shape"
   ]
  },
  {
   "cell_type": "markdown",
   "metadata": {},
   "source": [
    "**Вывод:**  \n",
    "student_perfomance_df.csv содержит 1000 строк и 7 столбцов:\n",
    "- gender – пол студента\n",
    "- race/ethnicity – раса/этническая принадлежность студента\n",
    "- parental level of education – уровень образования родителей\n",
    "- lunch – тип столового питания\n",
    "- test preparation course – стутаус курса подготовки к экзаменам\n",
    "- math score – оценка по математике\n",
    "- reading score – оценка по чтению\n",
    "- writing score – оценка по письму"
   ]
  },
  {
   "cell_type": "markdown",
   "metadata": {},
   "source": [
    "### 2.2. Изучение пропущенных данных. <a id=\"section22\"></a>"
   ]
  },
  {
   "cell_type": "code",
   "execution_count": 376,
   "metadata": {
    "pycharm": {
     "is_executing": false
    }
   },
   "outputs": [
    {
     "name": "stdout",
     "output_type": "stream",
     "text": [
      "gender                         0\n",
      "race/ethnicity                 0\n",
      "parental level of education    0\n",
      "lunch                          0\n",
      "test preparation course        0\n",
      "math score                     0\n",
      "reading score                  0\n",
      "writing score                  0\n",
      "dtype: int64\n"
     ]
    },
    {
     "data": {
      "image/png": "[encoded data removed]",
      "text/plain": [
       "<Figure size 1152x648 with 4 Axes>"
      ]
     },
     "metadata": {},
     "output_type": "display_data"
    }
   ],
   "source": [
    "print(student_perfomance_df.isnull().sum())\n",
    "\n",
    "# создадим один объект Figure и два объекта Axes\n",
    "fig, axes = plt.subplots(1, 2, figsize=(16, 9))\n",
    "# теперь отрисуем в axes[0] диаграмму пропущенных значений\n",
    "msno.bar(student_perfomance_df, figsize=(10, 7), ax=axes[0])\n",
    "# а в axes[1] отрисуем матрицу пропущенных значений\n",
    "msno.matrix(student_perfomance_df, figsize=(10, 7), ax=axes[1])\n",
    "plt.show()"
   ]
  },
  {
   "cell_type": "markdown",
   "metadata": {},
   "source": [
    "**Вывод:**  \n",
    "Датасет полный, ни одного пропущенного значения."
   ]
  },
  {
   "cell_type": "markdown",
   "metadata": {},
   "source": [
    "### 2.3. Изучение состава всех столбцов. <a id=\"section23\"></a>"
   ]
  },
  {
   "cell_type": "code",
   "execution_count": 377,
   "metadata": {
    "pycharm": {
     "is_executing": false
    },
    "scrolled": false
   },
   "outputs": [
    {
     "name": "stdout",
     "output_type": "stream",
     "text": [
      "gender                         object\n",
      "race/ethnicity                 object\n",
      "parental level of education    object\n",
      "lunch                          object\n",
      "test preparation course        object\n",
      "math score                      int64\n",
      "reading score                   int64\n",
      "writing score                   int64\n",
      "dtype: object\n",
      "       math score  reading score  writing score\n",
      "count  1000.00000    1000.000000    1000.000000\n",
      "mean     66.08900      69.169000      68.054000\n",
      "std      15.16308      14.600192      15.195657\n",
      "min       0.00000      17.000000      10.000000\n",
      "25%      57.00000      59.000000      57.750000\n",
      "50%      66.00000      70.000000      69.000000\n",
      "75%      77.00000      79.000000      79.000000\n",
      "max     100.00000     100.000000     100.000000\n",
      "        gender race/ethnicity parental level of education     lunch  \\\n",
      "count     1000           1000                        1000      1000   \n",
      "unique       2              5                           6         2   \n",
      "top     female        group C                some college  standard   \n",
      "freq       518            319                         226       645   \n",
      "\n",
      "       test preparation course  \n",
      "count                     1000  \n",
      "unique                       2  \n",
      "top                       none  \n",
      "freq                       642  \n"
     ]
    }
   ],
   "source": [
    "print(student_perfomance_df.dtypes)\n",
    "# метод describe для числовых данных\n",
    "print(student_perfomance_df.describe(include=[np.number]))\n",
    "# метод describe для текстовых данных\n",
    "print(student_perfomance_df.describe(include=[np.object]))"
   ]
  },
  {
   "cell_type": "code",
   "execution_count": 378,
   "metadata": {},
   "outputs": [
    {
     "name": "stdout",
     "output_type": "stream",
     "text": [
      "Уникальные значения столбца gender:\n",
      "['female' 'male']\n",
      "Уникальные значения столбца race/ethnicity:\n",
      "['group A' 'group B' 'group C' 'group D' 'group E']\n",
      "Уникальные значения столбца parental level of education:\n",
      "[\"associate's degree\" \"bachelor's degree\" 'high school' \"master's degree\"\n",
      " 'some college' 'some high school']\n",
      "Уникальные значения столбца lunch:\n",
      "['free/reduced' 'standard']\n",
      "Уникальные значения столбца test preparation course:\n",
      "['completed' 'none']\n",
      "Уникальные значения столбца math score:\n",
      "[  0   8  18  19  22  23  24  26  27  28  29  30  32  33  34  35  36  37\n",
      "  38  39  40  41  42  43  44  45  46  47  48  49  50  51  52  53  54  55\n",
      "  56  57  58  59  60  61  62  63  64  65  66  67  68  69  70  71  72  73\n",
      "  74  75  76  77  78  79  80  81  82  83  84  85  86  87  88  89  90  91\n",
      "  92  93  94  95  96  97  98  99 100]\n",
      "Уникальные значения столбца reading score:\n",
      "[ 17  23  24  26  28  29  31  32  34  37  38  39  40  41  42  43  44  45\n",
      "  46  47  48  49  50  51  52  53  54  55  56  57  58  59  60  61  62  63\n",
      "  64  65  66  67  68  69  70  71  72  73  74  75  76  77  78  79  80  81\n",
      "  82  83  84  85  86  87  88  89  90  91  92  93  94  95  96  97  99 100]\n",
      "Уникальные значения столбца writing score:\n",
      "[ 10  15  19  22  23  27  28  30  32  33  34  35  36  37  38  39  40  41\n",
      "  42  43  44  45  46  47  48  49  50  51  52  53  54  55  56  57  58  59\n",
      "  60  61  62  63  64  65  66  67  68  69  70  71  72  73  74  75  76  77\n",
      "  78  79  80  81  82  83  84  85  86  87  88  89  90  91  92  93  94  95\n",
      "  96  97  98  99 100]\n"
     ]
    }
   ],
   "source": [
    "# глянем на уникальные данные каждого столбца\n",
    "for column in student_perfomance_df.columns:\n",
    "    print('Уникальные значения столбца {}:\\n{}'.format(column, np.sort(student_perfomance_df[column].unique())))"
   ]
  },
  {
   "cell_type": "code",
   "execution_count": 379,
   "metadata": {},
   "outputs": [
    {
     "name": "stdout",
     "output_type": "stream",
     "text": [
      "Column name: gender\n",
      "female    518\n",
      "male      482\n",
      "Name: gender, dtype: int64 \n",
      "\n",
      "Column name: race/ethnicity\n",
      "group C    319\n",
      "group D    262\n",
      "group B    190\n",
      "group E    140\n",
      "group A     89\n",
      "Name: race/ethnicity, dtype: int64 \n",
      "\n",
      "Column name: parental level of education\n",
      "some college          226\n",
      "associate's degree    222\n",
      "high school           196\n",
      "some high school      179\n",
      "bachelor's degree     118\n",
      "Name: parental level of education, dtype: int64 \n",
      "\n",
      "Column name: lunch\n",
      "standard        645\n",
      "free/reduced    355\n",
      "Name: lunch, dtype: int64 \n",
      "\n",
      "Column name: test preparation course\n",
      "none         642\n",
      "completed    358\n",
      "Name: test preparation course, dtype: int64 \n",
      "\n",
      "Column name: math score\n",
      "65    36\n",
      "62    35\n",
      "59    32\n",
      "69    32\n",
      "73    27\n",
      "Name: math score, dtype: int64 \n",
      "\n",
      "Column name: reading score\n",
      "72    34\n",
      "74    33\n",
      "64    32\n",
      "73    30\n",
      "67    30\n",
      "Name: reading score, dtype: int64 \n",
      "\n",
      "Column name: writing score\n",
      "74    35\n",
      "70    33\n",
      "68    31\n",
      "73    28\n",
      "62    27\n",
      "Name: writing score, dtype: int64 \n",
      "\n"
     ]
    }
   ],
   "source": [
    "# выведем наиболее часто встречающиеся значения в столбцах\n",
    "for column in student_perfomance_df.columns:\n",
    "    print('Column name:', column)\n",
    "    print(student_perfomance_df[column].value_counts().nlargest(5), '\\n')"
   ]
  },
  {
   "cell_type": "markdown",
   "metadata": {},
   "source": [
    "### 2.4. Статистический анализ данных. <a id=\"section24\"></a>\n",
    "#### 2.4.1. Вероятностное распределение каждого столбца. <a id=\"section241\"></a>"
   ]
  },
  {
   "cell_type": "code",
   "execution_count": 380,
   "metadata": {
    "pycharm": {
     "is_executing": false
    },
    "scrolled": false
   },
   "outputs": [
    {
     "data": {
      "image/png": "[encoded data removed]",
      "text/plain": [
       "<Figure size 1440x1008 with 3 Axes>"
      ]
     },
     "metadata": {},
     "output_type": "display_data"
    }
   ],
   "source": [
    "# оставим только столбцы с данными типа int64 и float64\n",
    "student_perfomance_df_for_dist = student_perfomance_df.loc[:, student_perfomance_df.dtypes!='object']\n",
    "# а теперь отобразим все на одном графике\n",
    "fig, axes = plt.subplots(1, len(student_perfomance_df_for_dist.columns), figsize=(20, 14))\n",
    "for i, column in enumerate(student_perfomance_df_for_dist.columns):\n",
    "    sns.distplot(student_perfomance_df_for_dist[column], ax=axes[i])\n",
    "    axes[i].set_title(column)\n",
    "    axes[i].axvline(student_perfomance_df_for_dist[column].median(), c='g', label='Медиана')\n",
    "    axes[i].legend(loc='best')\n",
    "plt.show()"
   ]
  },
  {
   "cell_type": "markdown",
   "metadata": {},
   "source": [
    "**Вывод:**  \n",
    "- можно сказать, что оценки распределены по нормальному закону;  \n",
    "- выбросы в данных не наблюдаются;  \n",
    "- явной кластеризация значений не выявлено."
   ]
  },
  {
   "cell_type": "markdown",
   "metadata": {},
   "source": [
    "#### 2.4.2. А/В тестирование. <a id=\"section242\"></a>"
   ]
  },
  {
   "cell_type": "markdown",
   "metadata": {},
   "source": [
    "Очень часто в экспериментах и исследованиях возникает необходимость сравнить несколько групп между собой. В таком случае мы можем применять однофакторный дисперсионный анализ (ANOVA)."
   ]
  },
  {
   "cell_type": "code",
   "execution_count": 381,
   "metadata": {},
   "outputs": [],
   "source": [
    "# создадим удобную функцию для выполнения ANOVA\n",
    "def one_way_ANOVA(samples:list):\n",
    "    mean_samples = np.mean(np.concatenate(samples))\n",
    "    samples_means = [np.mean(sample) for sample in samples]\n",
    "    # SST - total sum of square (общая изменчивость общей выборки)\n",
    "    sst = sum([sum((sample - mean_samples)**2) for sample in samples])\n",
    "    # степени свободы при SST\n",
    "    sst_df = sum([len(sample) for sample in samples]) - 1\n",
    "    # SSW - sum of square within groups (дисперсия внутри каждой группы)\n",
    "    ssw = sum([sum((sample - sample_mean)**2) for sample, sample_mean in zip(samples, samples_means)])\n",
    "    # степени свободы при SSW\n",
    "    ssw_df = sum([len(sample) for sample in samples]) - len(samples)\n",
    "    # SSB - sum of square between groups (межгрупповая дисперсия)\n",
    "    ssb = sum([len(sample)*(sample_mean-mean_samples)**2 for sample, sample_mean in zip(samples, samples_means)])\n",
    "    # степени свободы при SSB\n",
    "    ssb_df = len(samples) - 1\n",
    "    # F-значение\n",
    "    f_measure = (ssb/ssb_df) / (ssw/ssw_df)\n",
    "    # вероятность правильности нулевой гипотезы (не путать с p-value)\n",
    "    p = 1-stats.f.cdf(f_measure, ssb_df, ssw_df)\n",
    "    return p"
   ]
  },
  {
   "cell_type": "markdown",
   "metadata": {},
   "source": [
    "Благодаря вычислительным возможностям современных компьютеров для дальнейшего исследования мы без проблем можем охватить всех студентов датасета, а не делать выборки.  \n",
    "\n",
    "Итак, нулевая гипотеза гласит, что средние разных групп равны, а это значит, что они принадлежат одной популяции. Альтернативная же гипотеза говорит об обратном, средние имеют весомое статистическое различие."
   ]
  },
  {
   "cell_type": "code",
   "execution_count": 382,
   "metadata": {},
   "outputs": [
    {
     "name": "stdout",
     "output_type": "stream",
     "text": [
      "Вероятность того, что результаты групп по дисциплине math score имеют статистически значимые различия - 0.9999999999862678\n",
      "\n",
      "Вероятность того, что результаты групп по дисциплине reading score имеют статистически значимые различия - 0.9998219910896764\n",
      "\n",
      "Вероятность того, что результаты групп по дисциплине writing score имеют статистически значимые различия - 0.9999890208109299\n",
      "\n"
     ]
    }
   ],
   "source": [
    "for discipline in ['math score', 'reading score', 'writing score']:\n",
    "    df = student_perfomance_df[['race/ethnicity', discipline]]\n",
    "    samples = []\n",
    "    for group in student_perfomance_df['race/ethnicity'].unique():\n",
    "        samples += [df[df['race/ethnicity']==group][discipline].to_list()]\n",
    "    print('Вероятность того, что результаты групп по дисциплине {} имеют статистически значимые различия - {}\\n'\\\n",
    "          .format(discipline, 1-one_way_ANOVA(samples)))"
   ]
  },
  {
   "cell_type": "markdown",
   "metadata": {},
   "source": [
    "Заключаем, что эти группы и правда отличаются в каждой из дисциплин. Принимаем альнернативную гипотезу.  \n",
    "\n",
    "Интересно будет посмотреть на ANOVA пары групп студентов, узнать есть ли похожие по результатам две группы студентов, и провести проверку нулевой гипотезы уже между всеми комбинациями только двух групп."
   ]
  },
  {
   "cell_type": "code",
   "execution_count": 383,
   "metadata": {},
   "outputs": [
    {
     "data": {
      "text/plain": [
       "[('group B', 'group C'),\n",
       " ('group B', 'group A'),\n",
       " ('group B', 'group D'),\n",
       " ('group B', 'group E'),\n",
       " ('group C', 'group A'),\n",
       " ('group C', 'group D'),\n",
       " ('group C', 'group E'),\n",
       " ('group A', 'group D'),\n",
       " ('group A', 'group E'),\n",
       " ('group D', 'group E')]"
      ]
     },
     "execution_count": 383,
     "metadata": {},
     "output_type": "execute_result"
    }
   ],
   "source": [
    "# список всех комбинаций по две группы нашего датасета\n",
    "group_combinations = list(itertools.combinations(student_perfomance_df['race/ethnicity'].unique(), 2))\n",
    "group_combinations"
   ]
  },
  {
   "cell_type": "code",
   "execution_count": 384,
   "metadata": {},
   "outputs": [
    {
     "name": "stdout",
     "output_type": "stream",
     "text": [
      "Вероятность того, что результаты групп group B и group C по дисциплине math score имеют статистически значимые различия - 0.5352291060832429\n",
      "\n",
      "Вероятность того, что результаты групп group B и group A по дисциплине math score имеют статистически значимые различия - 0.6496584038340042\n",
      "\n",
      "Вероятность того, что результаты групп group B и group D по дисциплине math score имеют статистически значимые различия - 0.9951138028628946\n",
      "\n",
      "Вероятность того, что результаты групп group B и group E по дисциплине math score имеют статистически значимые различия - 0.9999999949920539\n",
      "\n",
      "Вероятность того, что результаты групп group C и group A по дисциплине math score имеют статистически значимые различия - 0.8895618925441078\n",
      "\n",
      "Вероятность того, что результаты групп group C и group D по дисциплине math score имеют статистически значимые различия - 0.9841116504439829\n",
      "\n",
      "Вероятность того, что результаты групп group C и group E по дисциплине math score имеют статистически значимые различия - 0.9999999980727612\n",
      "\n",
      "Вероятность того, что результаты групп group A и group D по дисциплине math score имеют статистически значимые различия - 0.9990931363946455\n",
      "\n",
      "Вероятность того, что результаты групп group A и group E по дисциплине math score имеют статистически значимые различия - 0.9999999891644088\n",
      "\n",
      "Вероятность того, что результаты групп group D и group E по дисциплине math score имеют статистически значимые различия - 0.9999768123596733\n",
      "\n",
      "Вероятность того, что результаты групп group B и group C по дисциплине reading score имеют статистически значимые различия - 0.8133407190964752\n",
      "\n",
      "Вероятность того, что результаты групп group B и group A по дисциплине reading score имеют статистически значимые различия - 0.8261264486556278\n",
      "\n",
      "Вероятность того, что результаты групп group B и group D по дисциплине reading score имеют статистически значимые различия - 0.9476213793440169\n",
      "\n",
      "Вероятность того, что результаты групп group B и group E по дисциплине reading score имеют статистически значимые различия - 0.9992048381504759\n",
      "\n",
      "Вероятность того, что результаты групп group C и group A по дисциплине reading score имеют статистически значимые различия - 0.9896356019745279\n",
      "\n",
      "Вероятность того, что результаты групп group C и group D по дисциплине reading score имеют статистически значимые различия - 0.5742286178870157\n",
      "\n",
      "Вероятность того, что результаты групп group C и group E по дисциплине reading score имеют статистически значимые различия - 0.9930867157195007\n",
      "\n",
      "Вероятность того, что результаты групп group A и group D по дисциплине reading score имеют статистически значимые различия - 0.9975113455356674\n",
      "\n",
      "Вероятность того, что результаты групп group A и group E по дисциплине reading score имеют статистически значимые различия - 0.9999353660406817\n",
      "\n",
      "Вероятность того, что результаты групп group D и group E по дисциплине reading score имеют статистически значимые различия - 0.9549666935686579\n",
      "\n",
      "Вероятность того, что результаты групп group B и group C по дисциплине writing score имеют статистически значимые различия - 0.8889989040185484\n",
      "\n",
      "Вероятность того, что результаты групп group B и group A по дисциплине writing score имеют статистически значимые различия - 0.8552462580100533\n",
      "\n",
      "Вероятность того, что результаты групп group B и group D по дисциплине writing score имеют статистически значимые различия - 0.9985250021118678\n",
      "\n",
      "Вероятность того, что результаты групп group B и group E по дисциплине writing score имеют статистически значимые различия - 0.9991967699513646\n",
      "\n",
      "Вероятность того, что результаты групп group C и group A по дисциплине writing score имеют статистически значимые различия - 0.9953893092592592\n",
      "\n",
      "Вероятность того, что результаты групп group C и group D по дисциплине writing score имеют статистически значимые различия - 0.9406976708129117\n",
      "\n",
      "Вероятность того, что результаты групп group C и group E по дисциплине writing score имеют статистически значимые различия - 0.9808164609810995\n",
      "\n",
      "Вероятность того, что результаты групп group A и group D по дисциплине writing score имеют статистически значимые различия - 0.9999591519426603\n",
      "\n",
      "Вероятность того, что результаты групп group A и group E по дисциплине writing score имеют статистически значимые различия - 0.999965167219355\n",
      "\n",
      "Вероятность того, что результаты групп group D и group E по дисциплине writing score имеют статистически значимые различия - 0.5895544482607349\n",
      "\n"
     ]
    }
   ],
   "source": [
    "for discipline in ['math score', 'reading score', 'writing score']:\n",
    "    df = student_perfomance_df[['race/ethnicity', discipline]]\n",
    "    for two_groups in group_combinations:\n",
    "        samples = []\n",
    "        samples += [df[df['race/ethnicity']==two_groups[0]][discipline].to_list()]\n",
    "        samples += [df[df['race/ethnicity']==two_groups[1]][discipline].to_list()]\n",
    "        print('Вероятность того, что результаты групп {} и {} по дисциплине {} имеют статистически значимые различия - {}\\n'\\\n",
    "              .format(two_groups[0], two_groups[1], discipline, 1-one_way_ANOVA(samples)))"
   ]
  },
  {
   "cell_type": "markdown",
   "metadata": {},
   "source": [
    "Альтернативная гипотеза снова не подтверждается во всех случаях.  \n",
    "**Вывод:**  \n",
    "- все группы являются представителями разных популяций;  \n",
    "- результаты тестирования студентов также будут иметь статистическую значимость при сравнении представленных групп студентов."
   ]
  },
  {
   "cell_type": "markdown",
   "metadata": {},
   "source": [
    "### 2.5. Распределение средних каждой группы студентов. <a id=\"section25\"></a>"
   ]
  },
  {
   "cell_type": "code",
   "execution_count": 385,
   "metadata": {},
   "outputs": [
    {
     "data": {
      "text/html": [
       "<div>\n",
       "<style scoped>\n",
       "    .dataframe tbody tr th:only-of-type {\n",
       "        vertical-align: middle;\n",
       "    }\n",
       "\n",
       "    .dataframe tbody tr th {\n",
       "        vertical-align: top;\n",
       "    }\n",
       "\n",
       "    .dataframe thead th {\n",
       "        text-align: right;\n",
       "    }\n",
       "</style>\n",
       "<table border=\"1\" class=\"dataframe\">\n",
       "  <thead>\n",
       "    <tr style=\"text-align: right;\">\n",
       "      <th></th>\n",
       "      <th>math score</th>\n",
       "      <th>reading score</th>\n",
       "      <th>writing score</th>\n",
       "      <th>group_count</th>\n",
       "      <th>total_mean_score</th>\n",
       "    </tr>\n",
       "    <tr>\n",
       "      <th>race/ethnicity</th>\n",
       "      <th></th>\n",
       "      <th></th>\n",
       "      <th></th>\n",
       "      <th></th>\n",
       "      <th></th>\n",
       "    </tr>\n",
       "  </thead>\n",
       "  <tbody>\n",
       "    <tr>\n",
       "      <th>group E</th>\n",
       "      <td>73.8</td>\n",
       "      <td>73.0</td>\n",
       "      <td>71.4</td>\n",
       "      <td>140</td>\n",
       "      <td>72.733333</td>\n",
       "    </tr>\n",
       "    <tr>\n",
       "      <th>group D</th>\n",
       "      <td>67.4</td>\n",
       "      <td>70.0</td>\n",
       "      <td>70.1</td>\n",
       "      <td>262</td>\n",
       "      <td>69.166667</td>\n",
       "    </tr>\n",
       "    <tr>\n",
       "      <th>group C</th>\n",
       "      <td>64.5</td>\n",
       "      <td>69.1</td>\n",
       "      <td>67.8</td>\n",
       "      <td>319</td>\n",
       "      <td>67.133333</td>\n",
       "    </tr>\n",
       "    <tr>\n",
       "      <th>group B</th>\n",
       "      <td>63.5</td>\n",
       "      <td>67.4</td>\n",
       "      <td>65.6</td>\n",
       "      <td>190</td>\n",
       "      <td>65.500000</td>\n",
       "    </tr>\n",
       "    <tr>\n",
       "      <th>group A</th>\n",
       "      <td>61.6</td>\n",
       "      <td>64.7</td>\n",
       "      <td>62.7</td>\n",
       "      <td>89</td>\n",
       "      <td>63.000000</td>\n",
       "    </tr>\n",
       "  </tbody>\n",
       "</table>\n",
       "</div>"
      ],
      "text/plain": [
       "                math score  reading score  writing score  group_count  \\\n",
       "race/ethnicity                                                          \n",
       "group E               73.8           73.0           71.4          140   \n",
       "group D               67.4           70.0           70.1          262   \n",
       "group C               64.5           69.1           67.8          319   \n",
       "group B               63.5           67.4           65.6          190   \n",
       "group A               61.6           64.7           62.7           89   \n",
       "\n",
       "                total_mean_score  \n",
       "race/ethnicity                    \n",
       "group E                72.733333  \n",
       "group D                69.166667  \n",
       "group C                67.133333  \n",
       "group B                65.500000  \n",
       "group A                63.000000  "
      ]
     },
     "execution_count": 385,
     "metadata": {},
     "output_type": "execute_result"
    }
   ],
   "source": [
    "# сгруппируем по группам студентов и вычислим среднее каждой группы\n",
    "sp_df_group_means = student_perfomance_df[['gender', 'race/ethnicity', 'math score', 'reading score', 'writing score']]\\\n",
    ".groupby('race/ethnicity')\\\n",
    ".agg({'math score': 'mean', 'reading score':'mean', 'writing score':'mean', 'gender':'count'})\\\n",
    ".round(1)\\\n",
    ".rename(columns={'gender':'group_count'})\n",
    "# добавим столбец'total_mean_score', в котором будет отражена средняя оценка группы по всем \n",
    "sp_df_group_means['total_mean_score'] = sp_df_group_means[['math score', 'reading score', 'writing score']].mean(axis=1)\n",
    "sp_df_group_means.sort_values(by='total_mean_score', ascending=False)"
   ]
  },
  {
   "cell_type": "markdown",
   "metadata": {},
   "source": [
    "**Вывод:**  \n",
    "- судя по всему алфавитное деление на группы отражает степень подготовки студентов. A - слабая подготовка, E - сильная подготовка."
   ]
  },
  {
   "cell_type": "markdown",
   "metadata": {},
   "source": [
    "### 2.6. Исследование вляиния пола и степени подготовленности к тесту на оценки по дисциплинам. <a id=\"section26\"></a>\n",
    "#### 2.6.1. Исследование по математике. <a id=\"section261\"></a>"
   ]
  },
  {
   "cell_type": "code",
   "execution_count": 386,
   "metadata": {
    "scrolled": true
   },
   "outputs": [
    {
     "data": {
      "text/html": [
       "<div>\n",
       "<style scoped>\n",
       "    .dataframe tbody tr th:only-of-type {\n",
       "        vertical-align: middle;\n",
       "    }\n",
       "\n",
       "    .dataframe tbody tr th {\n",
       "        vertical-align: top;\n",
       "    }\n",
       "\n",
       "    .dataframe thead tr th {\n",
       "        text-align: left;\n",
       "    }\n",
       "\n",
       "    .dataframe thead tr:last-of-type th {\n",
       "        text-align: right;\n",
       "    }\n",
       "</style>\n",
       "<table border=\"1\" class=\"dataframe\">\n",
       "  <thead>\n",
       "    <tr>\n",
       "      <th></th>\n",
       "      <th></th>\n",
       "      <th colspan=\"2\" halign=\"left\">math score</th>\n",
       "    </tr>\n",
       "    <tr>\n",
       "      <th></th>\n",
       "      <th></th>\n",
       "      <th>mean</th>\n",
       "      <th>count</th>\n",
       "    </tr>\n",
       "    <tr>\n",
       "      <th>gender</th>\n",
       "      <th>test preparation course</th>\n",
       "      <th></th>\n",
       "      <th></th>\n",
       "    </tr>\n",
       "  </thead>\n",
       "  <tbody>\n",
       "    <tr>\n",
       "      <th rowspan=\"2\" valign=\"top\">female</th>\n",
       "      <th>completed</th>\n",
       "      <td>67.2</td>\n",
       "      <td>184</td>\n",
       "    </tr>\n",
       "    <tr>\n",
       "      <th>none</th>\n",
       "      <td>61.7</td>\n",
       "      <td>334</td>\n",
       "    </tr>\n",
       "    <tr>\n",
       "      <th rowspan=\"2\" valign=\"top\">male</th>\n",
       "      <th>completed</th>\n",
       "      <td>72.3</td>\n",
       "      <td>174</td>\n",
       "    </tr>\n",
       "    <tr>\n",
       "      <th>none</th>\n",
       "      <td>66.7</td>\n",
       "      <td>308</td>\n",
       "    </tr>\n",
       "  </tbody>\n",
       "</table>\n",
       "</div>"
      ],
      "text/plain": [
       "                               math score      \n",
       "                                     mean count\n",
       "gender test preparation course                 \n",
       "female completed                     67.2   184\n",
       "       none                          61.7   334\n",
       "male   completed                     72.3   174\n",
       "       none                          66.7   308"
      ]
     },
     "execution_count": 386,
     "metadata": {},
     "output_type": "execute_result"
    }
   ],
   "source": [
    "student_perfomance_df[['gender', 'test preparation course', 'math score']]\\\n",
    ".groupby(['gender','test preparation course'])\\\n",
    ".agg(['mean','count'])\\\n",
    ".round(1)"
   ]
  },
  {
   "cell_type": "markdown",
   "metadata": {},
   "source": [
    "**Вывод:**  \n",
    "- в математике лучше себя показала мужская половина студентов;\n",
    "- предварительная подготовка к тесту положительно влияет на его результаты."
   ]
  },
  {
   "cell_type": "markdown",
   "metadata": {},
   "source": [
    "#### 2.6.2. Исследование по чтению. <a id=\"section262\"></a>"
   ]
  },
  {
   "cell_type": "code",
   "execution_count": 387,
   "metadata": {},
   "outputs": [
    {
     "data": {
      "text/html": [
       "<div>\n",
       "<style scoped>\n",
       "    .dataframe tbody tr th:only-of-type {\n",
       "        vertical-align: middle;\n",
       "    }\n",
       "\n",
       "    .dataframe tbody tr th {\n",
       "        vertical-align: top;\n",
       "    }\n",
       "\n",
       "    .dataframe thead tr th {\n",
       "        text-align: left;\n",
       "    }\n",
       "\n",
       "    .dataframe thead tr:last-of-type th {\n",
       "        text-align: right;\n",
       "    }\n",
       "</style>\n",
       "<table border=\"1\" class=\"dataframe\">\n",
       "  <thead>\n",
       "    <tr>\n",
       "      <th></th>\n",
       "      <th></th>\n",
       "      <th colspan=\"2\" halign=\"left\">reading score</th>\n",
       "    </tr>\n",
       "    <tr>\n",
       "      <th></th>\n",
       "      <th></th>\n",
       "      <th>mean</th>\n",
       "      <th>count</th>\n",
       "    </tr>\n",
       "    <tr>\n",
       "      <th>gender</th>\n",
       "      <th>test preparation course</th>\n",
       "      <th></th>\n",
       "      <th></th>\n",
       "    </tr>\n",
       "  </thead>\n",
       "  <tbody>\n",
       "    <tr>\n",
       "      <th rowspan=\"2\" valign=\"top\">female</th>\n",
       "      <th>completed</th>\n",
       "      <td>77.4</td>\n",
       "      <td>184</td>\n",
       "    </tr>\n",
       "    <tr>\n",
       "      <th>none</th>\n",
       "      <td>70.0</td>\n",
       "      <td>334</td>\n",
       "    </tr>\n",
       "    <tr>\n",
       "      <th rowspan=\"2\" valign=\"top\">male</th>\n",
       "      <th>completed</th>\n",
       "      <td>70.2</td>\n",
       "      <td>174</td>\n",
       "    </tr>\n",
       "    <tr>\n",
       "      <th>none</th>\n",
       "      <td>62.8</td>\n",
       "      <td>308</td>\n",
       "    </tr>\n",
       "  </tbody>\n",
       "</table>\n",
       "</div>"
      ],
      "text/plain": [
       "                               reading score      \n",
       "                                        mean count\n",
       "gender test preparation course                    \n",
       "female completed                        77.4   184\n",
       "       none                             70.0   334\n",
       "male   completed                        70.2   174\n",
       "       none                             62.8   308"
      ]
     },
     "execution_count": 387,
     "metadata": {},
     "output_type": "execute_result"
    }
   ],
   "source": [
    "student_perfomance_df[['gender', 'test preparation course', 'reading score']]\\\n",
    ".groupby(['gender','test preparation course'])\\\n",
    ".agg(['mean','count'])\\\n",
    ".round(1)"
   ]
  },
  {
   "cell_type": "markdown",
   "metadata": {},
   "source": [
    "**Вывод:**  \n",
    "- в чтении преуспела женская половина студентов;\n",
    "- предварительная подготовка к тесту также положительно влияет на его результаты."
   ]
  },
  {
   "cell_type": "markdown",
   "metadata": {},
   "source": [
    "#### 2.6.3. Исследование по письму. <a id=\"section263\"></a>"
   ]
  },
  {
   "cell_type": "code",
   "execution_count": 388,
   "metadata": {},
   "outputs": [
    {
     "data": {
      "text/html": [
       "<div>\n",
       "<style scoped>\n",
       "    .dataframe tbody tr th:only-of-type {\n",
       "        vertical-align: middle;\n",
       "    }\n",
       "\n",
       "    .dataframe tbody tr th {\n",
       "        vertical-align: top;\n",
       "    }\n",
       "\n",
       "    .dataframe thead tr th {\n",
       "        text-align: left;\n",
       "    }\n",
       "\n",
       "    .dataframe thead tr:last-of-type th {\n",
       "        text-align: right;\n",
       "    }\n",
       "</style>\n",
       "<table border=\"1\" class=\"dataframe\">\n",
       "  <thead>\n",
       "    <tr>\n",
       "      <th></th>\n",
       "      <th></th>\n",
       "      <th colspan=\"2\" halign=\"left\">writing score</th>\n",
       "    </tr>\n",
       "    <tr>\n",
       "      <th></th>\n",
       "      <th></th>\n",
       "      <th>mean</th>\n",
       "      <th>count</th>\n",
       "    </tr>\n",
       "    <tr>\n",
       "      <th>gender</th>\n",
       "      <th>test preparation course</th>\n",
       "      <th></th>\n",
       "      <th></th>\n",
       "    </tr>\n",
       "  </thead>\n",
       "  <tbody>\n",
       "    <tr>\n",
       "      <th rowspan=\"2\" valign=\"top\">female</th>\n",
       "      <th>completed</th>\n",
       "      <td>78.8</td>\n",
       "      <td>184</td>\n",
       "    </tr>\n",
       "    <tr>\n",
       "      <th>none</th>\n",
       "      <td>69.0</td>\n",
       "      <td>334</td>\n",
       "    </tr>\n",
       "    <tr>\n",
       "      <th rowspan=\"2\" valign=\"top\">male</th>\n",
       "      <th>completed</th>\n",
       "      <td>69.8</td>\n",
       "      <td>174</td>\n",
       "    </tr>\n",
       "    <tr>\n",
       "      <th>none</th>\n",
       "      <td>59.6</td>\n",
       "      <td>308</td>\n",
       "    </tr>\n",
       "  </tbody>\n",
       "</table>\n",
       "</div>"
      ],
      "text/plain": [
       "                               writing score      \n",
       "                                        mean count\n",
       "gender test preparation course                    \n",
       "female completed                        78.8   184\n",
       "       none                             69.0   334\n",
       "male   completed                        69.8   174\n",
       "       none                             59.6   308"
      ]
     },
     "execution_count": 388,
     "metadata": {},
     "output_type": "execute_result"
    }
   ],
   "source": [
    "student_perfomance_df[['gender', 'test preparation course', 'writing score']]\\\n",
    ".groupby(['gender','test preparation course'])\\\n",
    ".agg(['mean','count'])\\\n",
    ".round(1)"
   ]
  },
  {
   "cell_type": "markdown",
   "metadata": {},
   "source": [
    "**Вывод:**  \n",
    "- в письме также преуспела женская половина студентов;\n",
    "- предварительная подготовка к тесту также положительно влияет на его результаты."
   ]
  },
  {
   "cell_type": "markdown",
   "metadata": {},
   "source": [
    "### 2.7. Исследование влияния этнической принадлежности и уровня образования родителей на оценки по дисциплинам. <a id=\"section27\"></a>\n",
    "Составим таблицу показателей."
   ]
  },
  {
   "cell_type": "code",
   "execution_count": 389,
   "metadata": {},
   "outputs": [
    {
     "data": {
      "text/html": [
       "<div>\n",
       "<style scoped>\n",
       "    .dataframe tbody tr th:only-of-type {\n",
       "        vertical-align: middle;\n",
       "    }\n",
       "\n",
       "    .dataframe tbody tr th {\n",
       "        vertical-align: top;\n",
       "    }\n",
       "\n",
       "    .dataframe thead th {\n",
       "        text-align: right;\n",
       "    }\n",
       "</style>\n",
       "<table border=\"1\" class=\"dataframe\">\n",
       "  <thead>\n",
       "    <tr style=\"text-align: right;\">\n",
       "      <th></th>\n",
       "      <th></th>\n",
       "      <th>math score</th>\n",
       "      <th>reading score</th>\n",
       "      <th>writing score</th>\n",
       "      <th>total score</th>\n",
       "    </tr>\n",
       "    <tr>\n",
       "      <th>race/ethnicity</th>\n",
       "      <th>parental level of education</th>\n",
       "      <th></th>\n",
       "      <th></th>\n",
       "      <th></th>\n",
       "      <th></th>\n",
       "    </tr>\n",
       "  </thead>\n",
       "  <tbody>\n",
       "    <tr>\n",
       "      <th rowspan=\"6\" valign=\"top\">group A</th>\n",
       "      <th>associate's degree</th>\n",
       "      <td>61.000000</td>\n",
       "      <td>67.071429</td>\n",
       "      <td>63.571429</td>\n",
       "      <td>63.880952</td>\n",
       "    </tr>\n",
       "    <tr>\n",
       "      <th>bachelor's degree</th>\n",
       "      <td>67.166667</td>\n",
       "      <td>68.083333</td>\n",
       "      <td>68.333333</td>\n",
       "      <td>67.861111</td>\n",
       "    </tr>\n",
       "    <tr>\n",
       "      <th>high school</th>\n",
       "      <td>60.444444</td>\n",
       "      <td>62.888889</td>\n",
       "      <td>60.500000</td>\n",
       "      <td>61.277778</td>\n",
       "    </tr>\n",
       "    <tr>\n",
       "      <th>master's degree</th>\n",
       "      <td>57.666667</td>\n",
       "      <td>64.666667</td>\n",
       "      <td>67.666667</td>\n",
       "      <td>63.333333</td>\n",
       "    </tr>\n",
       "    <tr>\n",
       "      <th>some college</th>\n",
       "      <td>63.888889</td>\n",
       "      <td>65.777778</td>\n",
       "      <td>65.000000</td>\n",
       "      <td>64.888889</td>\n",
       "    </tr>\n",
       "    <tr>\n",
       "      <th>some high school</th>\n",
       "      <td>58.916667</td>\n",
       "      <td>62.083333</td>\n",
       "      <td>58.583333</td>\n",
       "      <td>59.861111</td>\n",
       "    </tr>\n",
       "    <tr>\n",
       "      <th rowspan=\"6\" valign=\"top\">group B</th>\n",
       "      <th>associate's degree</th>\n",
       "      <td>66.097561</td>\n",
       "      <td>69.585366</td>\n",
       "      <td>68.243902</td>\n",
       "      <td>67.975610</td>\n",
       "    </tr>\n",
       "    <tr>\n",
       "      <th>bachelor's degree</th>\n",
       "      <td>69.300000</td>\n",
       "      <td>72.950000</td>\n",
       "      <td>71.650000</td>\n",
       "      <td>71.300000</td>\n",
       "    </tr>\n",
       "    <tr>\n",
       "      <th>high school</th>\n",
       "      <td>59.791667</td>\n",
       "      <td>63.458333</td>\n",
       "      <td>61.250000</td>\n",
       "      <td>61.500000</td>\n",
       "    </tr>\n",
       "    <tr>\n",
       "      <th>master's degree</th>\n",
       "      <td>67.166667</td>\n",
       "      <td>80.166667</td>\n",
       "      <td>77.166667</td>\n",
       "      <td>74.833333</td>\n",
       "    </tr>\n",
       "    <tr>\n",
       "      <th>some college</th>\n",
       "      <td>63.189189</td>\n",
       "      <td>65.756757</td>\n",
       "      <td>64.189189</td>\n",
       "      <td>64.378378</td>\n",
       "    </tr>\n",
       "    <tr>\n",
       "      <th>some high school</th>\n",
       "      <td>61.815789</td>\n",
       "      <td>66.447368</td>\n",
       "      <td>64.605263</td>\n",
       "      <td>64.289474</td>\n",
       "    </tr>\n",
       "    <tr>\n",
       "      <th rowspan=\"6\" valign=\"top\">group C</th>\n",
       "      <th>associate's degree</th>\n",
       "      <td>66.730769</td>\n",
       "      <td>71.128205</td>\n",
       "      <td>70.269231</td>\n",
       "      <td>69.376068</td>\n",
       "    </tr>\n",
       "    <tr>\n",
       "      <th>bachelor's degree</th>\n",
       "      <td>68.150000</td>\n",
       "      <td>75.675000</td>\n",
       "      <td>75.900000</td>\n",
       "      <td>73.241667</td>\n",
       "    </tr>\n",
       "    <tr>\n",
       "      <th>high school</th>\n",
       "      <td>60.906250</td>\n",
       "      <td>64.421875</td>\n",
       "      <td>61.656250</td>\n",
       "      <td>62.328125</td>\n",
       "    </tr>\n",
       "    <tr>\n",
       "      <th>master's degree</th>\n",
       "      <td>67.052632</td>\n",
       "      <td>70.526316</td>\n",
       "      <td>69.526316</td>\n",
       "      <td>69.035088</td>\n",
       "    </tr>\n",
       "    <tr>\n",
       "      <th>some college</th>\n",
       "      <td>65.130435</td>\n",
       "      <td>69.420290</td>\n",
       "      <td>68.869565</td>\n",
       "      <td>67.806763</td>\n",
       "    </tr>\n",
       "    <tr>\n",
       "      <th>some high school</th>\n",
       "      <td>60.551020</td>\n",
       "      <td>65.632653</td>\n",
       "      <td>63.285714</td>\n",
       "      <td>63.156463</td>\n",
       "    </tr>\n",
       "    <tr>\n",
       "      <th rowspan=\"6\" valign=\"top\">group D</th>\n",
       "      <th>associate's degree</th>\n",
       "      <td>67.600000</td>\n",
       "      <td>70.540000</td>\n",
       "      <td>69.860000</td>\n",
       "      <td>69.333333</td>\n",
       "    </tr>\n",
       "    <tr>\n",
       "      <th>bachelor's degree</th>\n",
       "      <td>67.571429</td>\n",
       "      <td>70.142857</td>\n",
       "      <td>71.892857</td>\n",
       "      <td>69.869048</td>\n",
       "    </tr>\n",
       "    <tr>\n",
       "      <th>high school</th>\n",
       "      <td>62.863636</td>\n",
       "      <td>64.409091</td>\n",
       "      <td>63.159091</td>\n",
       "      <td>63.477273</td>\n",
       "    </tr>\n",
       "    <tr>\n",
       "      <th>master's degree</th>\n",
       "      <td>72.521739</td>\n",
       "      <td>77.173913</td>\n",
       "      <td>79.739130</td>\n",
       "      <td>76.478261</td>\n",
       "    </tr>\n",
       "    <tr>\n",
       "      <th>some college</th>\n",
       "      <td>68.731343</td>\n",
       "      <td>70.880597</td>\n",
       "      <td>71.701493</td>\n",
       "      <td>70.437811</td>\n",
       "    </tr>\n",
       "    <tr>\n",
       "      <th>some high school</th>\n",
       "      <td>66.760000</td>\n",
       "      <td>69.980000</td>\n",
       "      <td>69.100000</td>\n",
       "      <td>68.613333</td>\n",
       "    </tr>\n",
       "    <tr>\n",
       "      <th rowspan=\"6\" valign=\"top\">group E</th>\n",
       "      <th>associate's degree</th>\n",
       "      <td>74.897436</td>\n",
       "      <td>73.820513</td>\n",
       "      <td>73.205128</td>\n",
       "      <td>73.974359</td>\n",
       "    </tr>\n",
       "    <tr>\n",
       "      <th>bachelor's degree</th>\n",
       "      <td>76.555556</td>\n",
       "      <td>74.833333</td>\n",
       "      <td>75.388889</td>\n",
       "      <td>75.592593</td>\n",
       "    </tr>\n",
       "    <tr>\n",
       "      <th>high school</th>\n",
       "      <td>70.772727</td>\n",
       "      <td>70.318182</td>\n",
       "      <td>67.545455</td>\n",
       "      <td>69.545455</td>\n",
       "    </tr>\n",
       "    <tr>\n",
       "      <th>master's degree</th>\n",
       "      <td>74.625000</td>\n",
       "      <td>82.125000</td>\n",
       "      <td>80.500000</td>\n",
       "      <td>79.083333</td>\n",
       "    </tr>\n",
       "    <tr>\n",
       "      <th>some college</th>\n",
       "      <td>73.828571</td>\n",
       "      <td>72.628571</td>\n",
       "      <td>70.200000</td>\n",
       "      <td>72.219048</td>\n",
       "    </tr>\n",
       "    <tr>\n",
       "      <th>some high school</th>\n",
       "      <td>72.111111</td>\n",
       "      <td>69.555556</td>\n",
       "      <td>66.555556</td>\n",
       "      <td>69.407407</td>\n",
       "    </tr>\n",
       "  </tbody>\n",
       "</table>\n",
       "</div>"
      ],
      "text/plain": [
       "                                            math score  reading score  \\\n",
       "race/ethnicity parental level of education                              \n",
       "group A        associate's degree            61.000000      67.071429   \n",
       "               bachelor's degree             67.166667      68.083333   \n",
       "               high school                   60.444444      62.888889   \n",
       "               master's degree               57.666667      64.666667   \n",
       "               some college                  63.888889      65.777778   \n",
       "               some high school              58.916667      62.083333   \n",
       "group B        associate's degree            66.097561      69.585366   \n",
       "               bachelor's degree             69.300000      72.950000   \n",
       "               high school                   59.791667      63.458333   \n",
       "               master's degree               67.166667      80.166667   \n",
       "               some college                  63.189189      65.756757   \n",
       "               some high school              61.815789      66.447368   \n",
       "group C        associate's degree            66.730769      71.128205   \n",
       "               bachelor's degree             68.150000      75.675000   \n",
       "               high school                   60.906250      64.421875   \n",
       "               master's degree               67.052632      70.526316   \n",
       "               some college                  65.130435      69.420290   \n",
       "               some high school              60.551020      65.632653   \n",
       "group D        associate's degree            67.600000      70.540000   \n",
       "               bachelor's degree             67.571429      70.142857   \n",
       "               high school                   62.863636      64.409091   \n",
       "               master's degree               72.521739      77.173913   \n",
       "               some college                  68.731343      70.880597   \n",
       "               some high school              66.760000      69.980000   \n",
       "group E        associate's degree            74.897436      73.820513   \n",
       "               bachelor's degree             76.555556      74.833333   \n",
       "               high school                   70.772727      70.318182   \n",
       "               master's degree               74.625000      82.125000   \n",
       "               some college                  73.828571      72.628571   \n",
       "               some high school              72.111111      69.555556   \n",
       "\n",
       "                                            writing score  total score  \n",
       "race/ethnicity parental level of education                              \n",
       "group A        associate's degree               63.571429    63.880952  \n",
       "               bachelor's degree                68.333333    67.861111  \n",
       "               high school                      60.500000    61.277778  \n",
       "               master's degree                  67.666667    63.333333  \n",
       "               some college                     65.000000    64.888889  \n",
       "               some high school                 58.583333    59.861111  \n",
       "group B        associate's degree               68.243902    67.975610  \n",
       "               bachelor's degree                71.650000    71.300000  \n",
       "               high school                      61.250000    61.500000  \n",
       "               master's degree                  77.166667    74.833333  \n",
       "               some college                     64.189189    64.378378  \n",
       "               some high school                 64.605263    64.289474  \n",
       "group C        associate's degree               70.269231    69.376068  \n",
       "               bachelor's degree                75.900000    73.241667  \n",
       "               high school                      61.656250    62.328125  \n",
       "               master's degree                  69.526316    69.035088  \n",
       "               some college                     68.869565    67.806763  \n",
       "               some high school                 63.285714    63.156463  \n",
       "group D        associate's degree               69.860000    69.333333  \n",
       "               bachelor's degree                71.892857    69.869048  \n",
       "               high school                      63.159091    63.477273  \n",
       "               master's degree                  79.739130    76.478261  \n",
       "               some college                     71.701493    70.437811  \n",
       "               some high school                 69.100000    68.613333  \n",
       "group E        associate's degree               73.205128    73.974359  \n",
       "               bachelor's degree                75.388889    75.592593  \n",
       "               high school                      67.545455    69.545455  \n",
       "               master's degree                  80.500000    79.083333  \n",
       "               some college                     70.200000    72.219048  \n",
       "               some high school                 66.555556    69.407407  "
      ]
     },
     "execution_count": 389,
     "metadata": {},
     "output_type": "execute_result"
    }
   ],
   "source": [
    "race_parent_level_sp_df =\\\n",
    "student_perfomance_df[['race/ethnicity', 'parental level of education', 'math score', 'reading score', 'writing score']]\\\n",
    ".groupby(['race/ethnicity', 'parental level of education'])\\\n",
    ".agg('mean')\n",
    "\n",
    "race_parent_level_sp_df['total score'] = race_parent_level_sp_df[['math score', 'reading score', 'writing score']].mean(axis=1)\n",
    "race_parent_level_sp_df"
   ]
  },
  {
   "cell_type": "markdown",
   "metadata": {},
   "source": [
    "Теперь визуализируем для лучшей интерпретируемости."
   ]
  },
  {
   "cell_type": "code",
   "execution_count": 390,
   "metadata": {},
   "outputs": [
    {
     "data": {
      "application/vnd.plotly.v1+json": {
       "config": {
        "plotlyServerURL": "https://plot.ly"
       },
       "data": [
        {
         "hovertemplate": "race/ethnicity=group A<br>total score=%{r}<br>parental level of education=%{theta}<extra></extra>",
         "legendgroup": "group A",
         "line": {
          "color": "#636efa",
          "dash": "solid"
         },
         "mode": "lines",
         "name": "group A",
         "r": [
          63.88095238095237,
          67.8611111111111,
          61.27777777777777,
          63.333333333333336,
          64.88888888888889,
          59.861111111111114,
          63.88095238095237
         ],
         "showlegend": true,
         "subplot": "polar",
         "theta": [
          "associate's degree",
          "bachelor's degree",
          "high school",
          "master's degree",
          "some college",
          "some high school",
          "associate's degree"
         ],
         "type": "scatterpolar"
        },
        {
         "hovertemplate": "race/ethnicity=group B<br>total score=%{r}<br>parental level of education=%{theta}<extra></extra>",
         "legendgroup": "group B",
         "line": {
          "color": "#EF553B",
          "dash": "solid"
         },
         "mode": "lines",
         "name": "group B",
         "r": [
          67.97560975609757,
          71.3,
          61.5,
          74.83333333333333,
          64.37837837837837,
          64.28947368421053,
          67.97560975609757
         ],
         "showlegend": true,
         "subplot": "polar",
         "theta": [
          "associate's degree",
          "bachelor's degree",
          "high school",
          "master's degree",
          "some college",
          "some high school",
          "associate's degree"
         ],
         "type": "scatterpolar"
        },
        {
         "hovertemplate": "race/ethnicity=group C<br>total score=%{r}<br>parental level of education=%{theta}<extra></extra>",
         "legendgroup": "group C",
         "line": {
          "color": "#00cc96",
          "dash": "solid"
         },
         "mode": "lines",
         "name": "group C",
         "r": [
          69.37606837606837,
          73.24166666666666,
          62.328125,
          69.03508771929825,
          67.80676328502416,
          63.156462585034014,
          69.37606837606837
         ],
         "showlegend": true,
         "subplot": "polar",
         "theta": [
          "associate's degree",
          "bachelor's degree",
          "high school",
          "master's degree",
          "some college",
          "some high school",
          "associate's degree"
         ],
         "type": "scatterpolar"
        },
        {
         "hovertemplate": "race/ethnicity=group D<br>total score=%{r}<br>parental level of education=%{theta}<extra></extra>",
         "legendgroup": "group D",
         "line": {
          "color": "#ab63fa",
          "dash": "solid"
         },
         "mode": "lines",
         "name": "group D",
         "r": [
          69.33333333333333,
          69.86904761904762,
          63.47727272727273,
          76.47826086956523,
          70.43781094527363,
          68.61333333333333,
          69.33333333333333
         ],
         "showlegend": true,
         "subplot": "polar",
         "theta": [
          "associate's degree",
          "bachelor's degree",
          "high school",
          "master's degree",
          "some college",
          "some high school",
          "associate's degree"
         ],
         "type": "scatterpolar"
        },
        {
         "hovertemplate": "race/ethnicity=group E<br>total score=%{r}<br>parental level of education=%{theta}<extra></extra>",
         "legendgroup": "group E",
         "line": {
          "color": "#FFA15A",
          "dash": "solid"
         },
         "mode": "lines",
         "name": "group E",
         "r": [
          73.97435897435898,
          75.5925925925926,
          69.54545454545455,
          79.08333333333333,
          72.21904761904761,
          69.4074074074074,
          73.97435897435898
         ],
         "showlegend": true,
         "subplot": "polar",
         "theta": [
          "associate's degree",
          "bachelor's degree",
          "high school",
          "master's degree",
          "some college",
          "some high school",
          "associate's degree"
         ],
         "type": "scatterpolar"
        }
       ],
       "layout": {
        "height": 500,
        "legend": {
         "title": {
          "text": "race/ethnicity"
         },
         "tracegroupgap": 0
        },
        "polar": {
         "angularaxis": {
          "direction": "clockwise",
          "rotation": 90
         },
         "domain": {
          "x": [
           0,
           1
          ],
          "y": [
           0,
           1
          ]
         },
         "radialaxis": {
          "type": "log"
         }
        },
        "template": {
         "data": {
          "bar": [
           {
            "error_x": {
             "color": "#2a3f5f"
            },
            "error_y": {
             "color": "#2a3f5f"
            },
            "marker": {
             "line": {
              "color": "#E5ECF6",
              "width": 0.5
             }
            },
            "type": "bar"
           }
          ],
          "barpolar": [
           {
            "marker": {
             "line": {
              "color": "#E5ECF6",
              "width": 0.5
             }
            },
            "type": "barpolar"
           }
          ],
          "carpet": [
           {
            "aaxis": {
             "endlinecolor": "#2a3f5f",
             "gridcolor": "white",
             "linecolor": "white",
             "minorgridcolor": "white",
             "startlinecolor": "#2a3f5f"
            },
            "baxis": {
             "endlinecolor": "#2a3f5f",
             "gridcolor": "white",
             "linecolor": "white",
             "minorgridcolor": "white",
             "startlinecolor": "#2a3f5f"
            },
            "type": "carpet"
           }
          ],
          "choropleth": [
           {
            "colorbar": {
             "outlinewidth": 0,
             "ticks": ""
            },
            "type": "choropleth"
           }
          ],
          "contour": [
           {
            "colorbar": {
             "outlinewidth": 0,
             "ticks": ""
            },
            "colorscale": [
             [
              0,
              "#0d0887"
             ],
             [
              0.1111111111111111,
              "#46039f"
             ],
             [
              0.2222222222222222,
              "#7201a8"
             ],
             [
              0.3333333333333333,
              "#9c179e"
             ],
             [
              0.4444444444444444,
              "#bd3786"
             ],
             [
              0.5555555555555556,
              "#d8576b"
             ],
             [
              0.6666666666666666,
              "#ed7953"
             ],
             [
              0.7777777777777778,
              "#fb9f3a"
             ],
             [
              0.8888888888888888,
              "#fdca26"
             ],
             [
              1,
              "#f0f921"
             ]
            ],
            "type": "contour"
           }
          ],
          "contourcarpet": [
           {
            "colorbar": {
             "outlinewidth": 0,
             "ticks": ""
            },
            "type": "contourcarpet"
           }
          ],
          "heatmap": [
           {
            "colorbar": {
             "outlinewidth": 0,
             "ticks": ""
            },
            "colorscale": [
             [
              0,
              "#0d0887"
             ],
             [
              0.1111111111111111,
              "#46039f"
             ],
             [
              0.2222222222222222,
              "#7201a8"
             ],
             [
              0.3333333333333333,
              "#9c179e"
             ],
             [
              0.4444444444444444,
              "#bd3786"
             ],
             [
              0.5555555555555556,
              "#d8576b"
             ],
             [
              0.6666666666666666,
              "#ed7953"
             ],
             [
              0.7777777777777778,
              "#fb9f3a"
             ],
             [
              0.8888888888888888,
              "#fdca26"
             ],
             [
              1,
              "#f0f921"
             ]
            ],
            "type": "heatmap"
           }
          ],
          "heatmapgl": [
           {
            "colorbar": {
             "outlinewidth": 0,
             "ticks": ""
            },
            "colorscale": [
             [
              0,
              "#0d0887"
             ],
             [
              0.1111111111111111,
              "#46039f"
             ],
             [
              0.2222222222222222,
              "#7201a8"
             ],
             [
              0.3333333333333333,
              "#9c179e"
             ],
             [
              0.4444444444444444,
              "#bd3786"
             ],
             [
              0.5555555555555556,
              "#d8576b"
             ],
             [
              0.6666666666666666,
              "#ed7953"
             ],
             [
              0.7777777777777778,
              "#fb9f3a"
             ],
             [
              0.8888888888888888,
              "#fdca26"
             ],
             [
              1,
              "#f0f921"
             ]
            ],
            "type": "heatmapgl"
           }
          ],
          "histogram": [
           {
            "marker": {
             "colorbar": {
              "outlinewidth": 0,
              "ticks": ""
             }
            },
            "type": "histogram"
           }
          ],
          "histogram2d": [
           {
            "colorbar": {
             "outlinewidth": 0,
             "ticks": ""
            },
            "colorscale": [
             [
              0,
              "#0d0887"
             ],
             [
              0.1111111111111111,
              "#46039f"
             ],
             [
              0.2222222222222222,
              "#7201a8"
             ],
             [
              0.3333333333333333,
              "#9c179e"
             ],
             [
              0.4444444444444444,
              "#bd3786"
             ],
             [
              0.5555555555555556,
              "#d8576b"
             ],
             [
              0.6666666666666666,
              "#ed7953"
             ],
             [
              0.7777777777777778,
              "#fb9f3a"
             ],
             [
              0.8888888888888888,
              "#fdca26"
             ],
             [
              1,
              "#f0f921"
             ]
            ],
            "type": "histogram2d"
           }
          ],
          "histogram2dcontour": [
           {
            "colorbar": {
             "outlinewidth": 0,
             "ticks": ""
            },
            "colorscale": [
             [
              0,
              "#0d0887"
             ],
             [
              0.1111111111111111,
              "#46039f"
             ],
             [
              0.2222222222222222,
              "#7201a8"
             ],
             [
              0.3333333333333333,
              "#9c179e"
             ],
             [
              0.4444444444444444,
              "#bd3786"
             ],
             [
              0.5555555555555556,
              "#d8576b"
             ],
             [
              0.6666666666666666,
              "#ed7953"
             ],
             [
              0.7777777777777778,
              "#fb9f3a"
             ],
             [
              0.8888888888888888,
              "#fdca26"
             ],
             [
              1,
              "#f0f921"
             ]
            ],
            "type": "histogram2dcontour"
           }
          ],
          "mesh3d": [
           {
            "colorbar": {
             "outlinewidth": 0,
             "ticks": ""
            },
            "type": "mesh3d"
           }
          ],
          "parcoords": [
           {
            "line": {
             "colorbar": {
              "outlinewidth": 0,
              "ticks": ""
             }
            },
            "type": "parcoords"
           }
          ],
          "pie": [
           {
            "automargin": true,
            "type": "pie"
           }
          ],
          "scatter": [
           {
            "marker": {
             "colorbar": {
              "outlinewidth": 0,
              "ticks": ""
             }
            },
            "type": "scatter"
           }
          ],
          "scatter3d": [
           {
            "line": {
             "colorbar": {
              "outlinewidth": 0,
              "ticks": ""
             }
            },
            "marker": {
             "colorbar": {
              "outlinewidth": 0,
              "ticks": ""
             }
            },
            "type": "scatter3d"
           }
          ],
          "scattercarpet": [
           {
            "marker": {
             "colorbar": {
              "outlinewidth": 0,
              "ticks": ""
             }
            },
            "type": "scattercarpet"
           }
          ],
          "scattergeo": [
           {
            "marker": {
             "colorbar": {
              "outlinewidth": 0,
              "ticks": ""
             }
            },
            "type": "scattergeo"
           }
          ],
          "scattergl": [
           {
            "marker": {
             "colorbar": {
              "outlinewidth": 0,
              "ticks": ""
             }
            },
            "type": "scattergl"
           }
          ],
          "scattermapbox": [
           {
            "marker": {
             "colorbar": {
              "outlinewidth": 0,
              "ticks": ""
             }
            },
            "type": "scattermapbox"
           }
          ],
          "scatterpolar": [
           {
            "marker": {
             "colorbar": {
              "outlinewidth": 0,
              "ticks": ""
             }
            },
            "type": "scatterpolar"
           }
          ],
          "scatterpolargl": [
           {
            "marker": {
             "colorbar": {
              "outlinewidth": 0,
              "ticks": ""
             }
            },
            "type": "scatterpolargl"
           }
          ],
          "scatterternary": [
           {
            "marker": {
             "colorbar": {
              "outlinewidth": 0,
              "ticks": ""
             }
            },
            "type": "scatterternary"
           }
          ],
          "surface": [
           {
            "colorbar": {
             "outlinewidth": 0,
             "ticks": ""
            },
            "colorscale": [
             [
              0,
              "#0d0887"
             ],
             [
              0.1111111111111111,
              "#46039f"
             ],
             [
              0.2222222222222222,
              "#7201a8"
             ],
             [
              0.3333333333333333,
              "#9c179e"
             ],
             [
              0.4444444444444444,
              "#bd3786"
             ],
             [
              0.5555555555555556,
              "#d8576b"
             ],
             [
              0.6666666666666666,
              "#ed7953"
             ],
             [
              0.7777777777777778,
              "#fb9f3a"
             ],
             [
              0.8888888888888888,
              "#fdca26"
             ],
             [
              1,
              "#f0f921"
             ]
            ],
            "type": "surface"
           }
          ],
          "table": [
           {
            "cells": {
             "fill": {
              "color": "#EBF0F8"
             },
             "line": {
              "color": "white"
             }
            },
            "header": {
             "fill": {
              "color": "#C8D4E3"
             },
             "line": {
              "color": "white"
             }
            },
            "type": "table"
           }
          ]
         },
         "layout": {
          "annotationdefaults": {
           "arrowcolor": "#2a3f5f",
           "arrowhead": 0,
           "arrowwidth": 1
          },
          "coloraxis": {
           "colorbar": {
            "outlinewidth": 0,
            "ticks": ""
           }
          },
          "colorscale": {
           "diverging": [
            [
             0,
             "#8e0152"
            ],
            [
             0.1,
             "#c51b7d"
            ],
            [
             0.2,
             "#de77ae"
            ],
            [
             0.3,
             "#f1b6da"
            ],
            [
             0.4,
             "#fde0ef"
            ],
            [
             0.5,
             "#f7f7f7"
            ],
            [
             0.6,
             "#e6f5d0"
            ],
            [
             0.7,
             "#b8e186"
            ],
            [
             0.8,
             "#7fbc41"
            ],
            [
             0.9,
             "#4d9221"
            ],
            [
             1,
             "#276419"
            ]
           ],
           "sequential": [
            [
             0,
             "#0d0887"
            ],
            [
             0.1111111111111111,
             "#46039f"
            ],
            [
             0.2222222222222222,
             "#7201a8"
            ],
            [
             0.3333333333333333,
             "#9c179e"
            ],
            [
             0.4444444444444444,
             "#bd3786"
            ],
            [
             0.5555555555555556,
             "#d8576b"
            ],
            [
             0.6666666666666666,
             "#ed7953"
            ],
            [
             0.7777777777777778,
             "#fb9f3a"
            ],
            [
             0.8888888888888888,
             "#fdca26"
            ],
            [
             1,
             "#f0f921"
            ]
           ],
           "sequentialminus": [
            [
             0,
             "#0d0887"
            ],
            [
             0.1111111111111111,
             "#46039f"
            ],
            [
             0.2222222222222222,
             "#7201a8"
            ],
            [
             0.3333333333333333,
             "#9c179e"
            ],
            [
             0.4444444444444444,
             "#bd3786"
            ],
            [
             0.5555555555555556,
             "#d8576b"
            ],
            [
             0.6666666666666666,
             "#ed7953"
            ],
            [
             0.7777777777777778,
             "#fb9f3a"
            ],
            [
             0.8888888888888888,
             "#fdca26"
            ],
            [
             1,
             "#f0f921"
            ]
           ]
          },
          "colorway": [
           "#636efa",
           "#EF553B",
           "#00cc96",
           "#ab63fa",
           "#FFA15A",
           "#19d3f3",
           "#FF6692",
           "#B6E880",
           "#FF97FF",
           "#FECB52"
          ],
          "font": {
           "color": "#2a3f5f"
          },
          "geo": {
           "bgcolor": "white",
           "lakecolor": "white",
           "landcolor": "#E5ECF6",
           "showlakes": true,
           "showland": true,
           "subunitcolor": "white"
          },
          "hoverlabel": {
           "align": "left"
          },
          "hovermode": "closest",
          "mapbox": {
           "style": "light"
          },
          "paper_bgcolor": "white",
          "plot_bgcolor": "#E5ECF6",
          "polar": {
           "angularaxis": {
            "gridcolor": "white",
            "linecolor": "white",
            "ticks": ""
           },
           "bgcolor": "#E5ECF6",
           "radialaxis": {
            "gridcolor": "white",
            "linecolor": "white",
            "ticks": ""
           }
          },
          "scene": {
           "xaxis": {
            "backgroundcolor": "#E5ECF6",
            "gridcolor": "white",
            "gridwidth": 2,
            "linecolor": "white",
            "showbackground": true,
            "ticks": "",
            "zerolinecolor": "white"
           },
           "yaxis": {
            "backgroundcolor": "#E5ECF6",
            "gridcolor": "white",
            "gridwidth": 2,
            "linecolor": "white",
            "showbackground": true,
            "ticks": "",
            "zerolinecolor": "white"
           },
           "zaxis": {
            "backgroundcolor": "#E5ECF6",
            "gridcolor": "white",
            "gridwidth": 2,
            "linecolor": "white",
            "showbackground": true,
            "ticks": "",
            "zerolinecolor": "white"
           }
          },
          "shapedefaults": {
           "line": {
            "color": "#2a3f5f"
           }
          },
          "ternary": {
           "aaxis": {
            "gridcolor": "white",
            "linecolor": "white",
            "ticks": ""
           },
           "baxis": {
            "gridcolor": "white",
            "linecolor": "white",
            "ticks": ""
           },
           "bgcolor": "#E5ECF6",
           "caxis": {
            "gridcolor": "white",
            "linecolor": "white",
            "ticks": ""
           }
          },
          "title": {
           "x": 0.05
          },
          "xaxis": {
           "automargin": true,
           "gridcolor": "white",
           "linecolor": "white",
           "ticks": "",
           "title": {
            "standoff": 15
           },
           "zerolinecolor": "white",
           "zerolinewidth": 2
          },
          "yaxis": {
           "automargin": true,
           "gridcolor": "white",
           "linecolor": "white",
           "ticks": "",
           "title": {
            "standoff": 15
           },
           "zerolinecolor": "white",
           "zerolinewidth": 2
          }
         }
        },
        "title": {
         "text": "Зависимость успеваемости студентов от ученой степени родителей"
        },
        "width": 800
       }
      },
      "text/html": [
       "<div>\n",
       "        \n",
       "        \n",
       "            <div id=\"8d6465ec-5801-4aab-8d45-24d504a4fb02\" class=\"plotly-graph-div\" style=\"height:500px; width:800px;\"></div>\n",
       "            <script type=\"text/javascript\">\n",
       "                require([\"plotly\"], function(Plotly) {\n",
       "                    window.PLOTLYENV=window.PLOTLYENV || {};\n",
       "                    \n",
       "                if (document.getElementById(\"8d6465ec-5801-4aab-8d45-24d504a4fb02\")) {\n",
       "                    Plotly.newPlot(\n",
       "                        '8d6465ec-5801-4aab-8d45-24d504a4fb02',\n",
       "                        [{\"hovertemplate\": \"race/ethnicity=group A<br>total score=%{r}<br>parental level of education=%{theta}<extra></extra>\", \"legendgroup\": \"group A\", \"line\": {\"color\": \"#636efa\", \"dash\": \"solid\"}, \"mode\": \"lines\", \"name\": \"group A\", \"r\": [63.88095238095237, 67.8611111111111, 61.27777777777777, 63.333333333333336, 64.88888888888889, 59.861111111111114, 63.88095238095237], \"showlegend\": true, \"subplot\": \"polar\", \"theta\": [\"associate's degree\", \"bachelor's degree\", \"high school\", \"master's degree\", \"some college\", \"some high school\", \"associate's degree\"], \"type\": \"scatterpolar\"}, {\"hovertemplate\": \"race/ethnicity=group B<br>total score=%{r}<br>parental level of education=%{theta}<extra></extra>\", \"legendgroup\": \"group B\", \"line\": {\"color\": \"#EF553B\", \"dash\": \"solid\"}, \"mode\": \"lines\", \"name\": \"group B\", \"r\": [67.97560975609757, 71.3, 61.5, 74.83333333333333, 64.37837837837837, 64.28947368421053, 67.97560975609757], \"showlegend\": true, \"subplot\": \"polar\", \"theta\": [\"associate's degree\", \"bachelor's degree\", \"high school\", \"master's degree\", \"some college\", \"some high school\", \"associate's degree\"], \"type\": \"scatterpolar\"}, {\"hovertemplate\": \"race/ethnicity=group C<br>total score=%{r}<br>parental level of education=%{theta}<extra></extra>\", \"legendgroup\": \"group C\", \"line\": {\"color\": \"#00cc96\", \"dash\": \"solid\"}, \"mode\": \"lines\", \"name\": \"group C\", \"r\": [69.37606837606837, 73.24166666666666, 62.328125, 69.03508771929825, 67.80676328502416, 63.156462585034014, 69.37606837606837], \"showlegend\": true, \"subplot\": \"polar\", \"theta\": [\"associate's degree\", \"bachelor's degree\", \"high school\", \"master's degree\", \"some college\", \"some high school\", \"associate's degree\"], \"type\": \"scatterpolar\"}, {\"hovertemplate\": \"race/ethnicity=group D<br>total score=%{r}<br>parental level of education=%{theta}<extra></extra>\", \"legendgroup\": \"group D\", \"line\": {\"color\": \"#ab63fa\", \"dash\": \"solid\"}, \"mode\": \"lines\", \"name\": \"group D\", \"r\": [69.33333333333333, 69.86904761904762, 63.47727272727273, 76.47826086956523, 70.43781094527363, 68.61333333333333, 69.33333333333333], \"showlegend\": true, \"subplot\": \"polar\", \"theta\": [\"associate's degree\", \"bachelor's degree\", \"high school\", \"master's degree\", \"some college\", \"some high school\", \"associate's degree\"], \"type\": \"scatterpolar\"}, {\"hovertemplate\": \"race/ethnicity=group E<br>total score=%{r}<br>parental level of education=%{theta}<extra></extra>\", \"legendgroup\": \"group E\", \"line\": {\"color\": \"#FFA15A\", \"dash\": \"solid\"}, \"mode\": \"lines\", \"name\": \"group E\", \"r\": [73.97435897435898, 75.5925925925926, 69.54545454545455, 79.08333333333333, 72.21904761904761, 69.4074074074074, 73.97435897435898], \"showlegend\": true, \"subplot\": \"polar\", \"theta\": [\"associate's degree\", \"bachelor's degree\", \"high school\", \"master's degree\", \"some college\", \"some high school\", \"associate's degree\"], \"type\": \"scatterpolar\"}],\n",
       "                        {\"height\": 500, \"legend\": {\"title\": {\"text\": \"race/ethnicity\"}, \"tracegroupgap\": 0}, \"polar\": {\"angularaxis\": {\"direction\": \"clockwise\", \"rotation\": 90}, \"domain\": {\"x\": [0.0, 1.0], \"y\": [0.0, 1.0]}, \"radialaxis\": {\"type\": \"log\"}}, \"template\": {\"data\": {\"bar\": [{\"error_x\": {\"color\": \"#2a3f5f\"}, \"error_y\": {\"color\": \"#2a3f5f\"}, \"marker\": {\"line\": {\"color\": \"#E5ECF6\", \"width\": 0.5}}, \"type\": \"bar\"}], \"barpolar\": [{\"marker\": {\"line\": {\"color\": \"#E5ECF6\", \"width\": 0.5}}, \"type\": \"barpolar\"}], \"carpet\": [{\"aaxis\": {\"endlinecolor\": \"#2a3f5f\", \"gridcolor\": \"white\", \"linecolor\": \"white\", \"minorgridcolor\": \"white\", \"startlinecolor\": \"#2a3f5f\"}, \"baxis\": {\"endlinecolor\": \"#2a3f5f\", \"gridcolor\": \"white\", \"linecolor\": \"white\", \"minorgridcolor\": \"white\", \"startlinecolor\": \"#2a3f5f\"}, \"type\": \"carpet\"}], \"choropleth\": [{\"colorbar\": {\"outlinewidth\": 0, \"ticks\": \"\"}, \"type\": \"choropleth\"}], \"contour\": [{\"colorbar\": {\"outlinewidth\": 0, \"ticks\": \"\"}, \"colorscale\": [[0.0, \"#0d0887\"], [0.1111111111111111, \"#46039f\"], [0.2222222222222222, \"#7201a8\"], [0.3333333333333333, \"#9c179e\"], [0.4444444444444444, \"#bd3786\"], [0.5555555555555556, \"#d8576b\"], [0.6666666666666666, \"#ed7953\"], [0.7777777777777778, \"#fb9f3a\"], [0.8888888888888888, \"#fdca26\"], [1.0, \"#f0f921\"]], \"type\": \"contour\"}], \"contourcarpet\": [{\"colorbar\": {\"outlinewidth\": 0, \"ticks\": \"\"}, \"type\": \"contourcarpet\"}], \"heatmap\": [{\"colorbar\": {\"outlinewidth\": 0, \"ticks\": \"\"}, \"colorscale\": [[0.0, \"#0d0887\"], [0.1111111111111111, \"#46039f\"], [0.2222222222222222, \"#7201a8\"], [0.3333333333333333, \"#9c179e\"], [0.4444444444444444, \"#bd3786\"], [0.5555555555555556, \"#d8576b\"], [0.6666666666666666, \"#ed7953\"], [0.7777777777777778, \"#fb9f3a\"], [0.8888888888888888, \"#fdca26\"], [1.0, \"#f0f921\"]], \"type\": \"heatmap\"}], \"heatmapgl\": [{\"colorbar\": {\"outlinewidth\": 0, \"ticks\": \"\"}, \"colorscale\": [[0.0, \"#0d0887\"], [0.1111111111111111, \"#46039f\"], [0.2222222222222222, \"#7201a8\"], [0.3333333333333333, \"#9c179e\"], [0.4444444444444444, \"#bd3786\"], [0.5555555555555556, \"#d8576b\"], [0.6666666666666666, \"#ed7953\"], [0.7777777777777778, \"#fb9f3a\"], [0.8888888888888888, \"#fdca26\"], [1.0, \"#f0f921\"]], \"type\": \"heatmapgl\"}], \"histogram\": [{\"marker\": {\"colorbar\": {\"outlinewidth\": 0, \"ticks\": \"\"}}, \"type\": \"histogram\"}], \"histogram2d\": [{\"colorbar\": {\"outlinewidth\": 0, \"ticks\": \"\"}, \"colorscale\": [[0.0, \"#0d0887\"], [0.1111111111111111, \"#46039f\"], [0.2222222222222222, \"#7201a8\"], [0.3333333333333333, \"#9c179e\"], [0.4444444444444444, \"#bd3786\"], [0.5555555555555556, \"#d8576b\"], [0.6666666666666666, \"#ed7953\"], [0.7777777777777778, \"#fb9f3a\"], [0.8888888888888888, \"#fdca26\"], [1.0, \"#f0f921\"]], \"type\": \"histogram2d\"}], \"histogram2dcontour\": [{\"colorbar\": {\"outlinewidth\": 0, \"ticks\": \"\"}, \"colorscale\": [[0.0, \"#0d0887\"], [0.1111111111111111, \"#46039f\"], [0.2222222222222222, \"#7201a8\"], [0.3333333333333333, \"#9c179e\"], [0.4444444444444444, \"#bd3786\"], [0.5555555555555556, \"#d8576b\"], [0.6666666666666666, \"#ed7953\"], [0.7777777777777778, \"#fb9f3a\"], [0.8888888888888888, \"#fdca26\"], [1.0, \"#f0f921\"]], \"type\": \"histogram2dcontour\"}], \"mesh3d\": [{\"colorbar\": {\"outlinewidth\": 0, \"ticks\": \"\"}, \"type\": \"mesh3d\"}], \"parcoords\": [{\"line\": {\"colorbar\": {\"outlinewidth\": 0, \"ticks\": \"\"}}, \"type\": \"parcoords\"}], \"pie\": [{\"automargin\": true, \"type\": \"pie\"}], \"scatter\": [{\"marker\": {\"colorbar\": {\"outlinewidth\": 0, \"ticks\": \"\"}}, \"type\": \"scatter\"}], \"scatter3d\": [{\"line\": {\"colorbar\": {\"outlinewidth\": 0, \"ticks\": \"\"}}, \"marker\": {\"colorbar\": {\"outlinewidth\": 0, \"ticks\": \"\"}}, \"type\": \"scatter3d\"}], \"scattercarpet\": [{\"marker\": {\"colorbar\": {\"outlinewidth\": 0, \"ticks\": \"\"}}, \"type\": \"scattercarpet\"}], \"scattergeo\": [{\"marker\": {\"colorbar\": {\"outlinewidth\": 0, \"ticks\": \"\"}}, \"type\": \"scattergeo\"}], \"scattergl\": [{\"marker\": {\"colorbar\": {\"outlinewidth\": 0, \"ticks\": \"\"}}, \"type\": \"scattergl\"}], \"scattermapbox\": [{\"marker\": {\"colorbar\": {\"outlinewidth\": 0, \"ticks\": \"\"}}, \"type\": \"scattermapbox\"}], \"scatterpolar\": [{\"marker\": {\"colorbar\": {\"outlinewidth\": 0, \"ticks\": \"\"}}, \"type\": \"scatterpolar\"}], \"scatterpolargl\": [{\"marker\": {\"colorbar\": {\"outlinewidth\": 0, \"ticks\": \"\"}}, \"type\": \"scatterpolargl\"}], \"scatterternary\": [{\"marker\": {\"colorbar\": {\"outlinewidth\": 0, \"ticks\": \"\"}}, \"type\": \"scatterternary\"}], \"surface\": [{\"colorbar\": {\"outlinewidth\": 0, \"ticks\": \"\"}, \"colorscale\": [[0.0, \"#0d0887\"], [0.1111111111111111, \"#46039f\"], [0.2222222222222222, \"#7201a8\"], [0.3333333333333333, \"#9c179e\"], [0.4444444444444444, \"#bd3786\"], [0.5555555555555556, \"#d8576b\"], [0.6666666666666666, \"#ed7953\"], [0.7777777777777778, \"#fb9f3a\"], [0.8888888888888888, \"#fdca26\"], [1.0, \"#f0f921\"]], \"type\": \"surface\"}], \"table\": [{\"cells\": {\"fill\": {\"color\": \"#EBF0F8\"}, \"line\": {\"color\": \"white\"}}, \"header\": {\"fill\": {\"color\": \"#C8D4E3\"}, \"line\": {\"color\": \"white\"}}, \"type\": \"table\"}]}, \"layout\": {\"annotationdefaults\": {\"arrowcolor\": \"#2a3f5f\", \"arrowhead\": 0, \"arrowwidth\": 1}, \"coloraxis\": {\"colorbar\": {\"outlinewidth\": 0, \"ticks\": \"\"}}, \"colorscale\": {\"diverging\": [[0, \"#8e0152\"], [0.1, \"#c51b7d\"], [0.2, \"#de77ae\"], [0.3, \"#f1b6da\"], [0.4, \"#fde0ef\"], [0.5, \"#f7f7f7\"], [0.6, \"#e6f5d0\"], [0.7, \"#b8e186\"], [0.8, \"#7fbc41\"], [0.9, \"#4d9221\"], [1, \"#276419\"]], \"sequential\": [[0.0, \"#0d0887\"], [0.1111111111111111, \"#46039f\"], [0.2222222222222222, \"#7201a8\"], [0.3333333333333333, \"#9c179e\"], [0.4444444444444444, \"#bd3786\"], [0.5555555555555556, \"#d8576b\"], [0.6666666666666666, \"#ed7953\"], [0.7777777777777778, \"#fb9f3a\"], [0.8888888888888888, \"#fdca26\"], [1.0, \"#f0f921\"]], \"sequentialminus\": [[0.0, \"#0d0887\"], [0.1111111111111111, \"#46039f\"], [0.2222222222222222, \"#7201a8\"], [0.3333333333333333, \"#9c179e\"], [0.4444444444444444, \"#bd3786\"], [0.5555555555555556, \"#d8576b\"], [0.6666666666666666, \"#ed7953\"], [0.7777777777777778, \"#fb9f3a\"], [0.8888888888888888, \"#fdca26\"], [1.0, \"#f0f921\"]]}, \"colorway\": [\"#636efa\", \"#EF553B\", \"#00cc96\", \"#ab63fa\", \"#FFA15A\", \"#19d3f3\", \"#FF6692\", \"#B6E880\", \"#FF97FF\", \"#FECB52\"], \"font\": {\"color\": \"#2a3f5f\"}, \"geo\": {\"bgcolor\": \"white\", \"lakecolor\": \"white\", \"landcolor\": \"#E5ECF6\", \"showlakes\": true, \"showland\": true, \"subunitcolor\": \"white\"}, \"hoverlabel\": {\"align\": \"left\"}, \"hovermode\": \"closest\", \"mapbox\": {\"style\": \"light\"}, \"paper_bgcolor\": \"white\", \"plot_bgcolor\": \"#E5ECF6\", \"polar\": {\"angularaxis\": {\"gridcolor\": \"white\", \"linecolor\": \"white\", \"ticks\": \"\"}, \"bgcolor\": \"#E5ECF6\", \"radialaxis\": {\"gridcolor\": \"white\", \"linecolor\": \"white\", \"ticks\": \"\"}}, \"scene\": {\"xaxis\": {\"backgroundcolor\": \"#E5ECF6\", \"gridcolor\": \"white\", \"gridwidth\": 2, \"linecolor\": \"white\", \"showbackground\": true, \"ticks\": \"\", \"zerolinecolor\": \"white\"}, \"yaxis\": {\"backgroundcolor\": \"#E5ECF6\", \"gridcolor\": \"white\", \"gridwidth\": 2, \"linecolor\": \"white\", \"showbackground\": true, \"ticks\": \"\", \"zerolinecolor\": \"white\"}, \"zaxis\": {\"backgroundcolor\": \"#E5ECF6\", \"gridcolor\": \"white\", \"gridwidth\": 2, \"linecolor\": \"white\", \"showbackground\": true, \"ticks\": \"\", \"zerolinecolor\": \"white\"}}, \"shapedefaults\": {\"line\": {\"color\": \"#2a3f5f\"}}, \"ternary\": {\"aaxis\": {\"gridcolor\": \"white\", \"linecolor\": \"white\", \"ticks\": \"\"}, \"baxis\": {\"gridcolor\": \"white\", \"linecolor\": \"white\", \"ticks\": \"\"}, \"bgcolor\": \"#E5ECF6\", \"caxis\": {\"gridcolor\": \"white\", \"linecolor\": \"white\", \"ticks\": \"\"}}, \"title\": {\"x\": 0.05}, \"xaxis\": {\"automargin\": true, \"gridcolor\": \"white\", \"linecolor\": \"white\", \"ticks\": \"\", \"title\": {\"standoff\": 15}, \"zerolinecolor\": \"white\", \"zerolinewidth\": 2}, \"yaxis\": {\"automargin\": true, \"gridcolor\": \"white\", \"linecolor\": \"white\", \"ticks\": \"\", \"title\": {\"standoff\": 15}, \"zerolinecolor\": \"white\", \"zerolinewidth\": 2}}}, \"title\": {\"text\": \"\\u0417\\u0430\\u0432\\u0438\\u0441\\u0438\\u043c\\u043e\\u0441\\u0442\\u044c \\u0443\\u0441\\u043f\\u0435\\u0432\\u0430\\u0435\\u043c\\u043e\\u0441\\u0442\\u0438 \\u0441\\u0442\\u0443\\u0434\\u0435\\u043d\\u0442\\u043e\\u0432 \\u043e\\u0442 \\u0443\\u0447\\u0435\\u043d\\u043e\\u0439 \\u0441\\u0442\\u0435\\u043f\\u0435\\u043d\\u0438 \\u0440\\u043e\\u0434\\u0438\\u0442\\u0435\\u043b\\u0435\\u0439\"}, \"width\": 800},\n",
       "                        {\"responsive\": true}\n",
       "                    ).then(function(){\n",
       "                            \n",
       "var gd = document.getElementById('8d6465ec-5801-4aab-8d45-24d504a4fb02');\n",
       "var x = new MutationObserver(function (mutations, observer) {{\n",
       "        var display = window.getComputedStyle(gd).display;\n",
       "        if (!display || display === 'none') {{\n",
       "            console.log([gd, 'removed!']);\n",
       "            Plotly.purge(gd);\n",
       "            observer.disconnect();\n",
       "        }}\n",
       "}});\n",
       "\n",
       "// Listen for the removal of the full notebook cells\n",
       "var notebookContainer = gd.closest('#notebook-container');\n",
       "if (notebookContainer) {{\n",
       "    x.observe(notebookContainer, {childList: true});\n",
       "}}\n",
       "\n",
       "// Listen for the clearing of the current output cell\n",
       "var outputEl = gd.closest('.output');\n",
       "if (outputEl) {{\n",
       "    x.observe(outputEl, {childList: true});\n",
       "}}\n",
       "\n",
       "                        })\n",
       "                };\n",
       "                });\n",
       "            </script>\n",
       "        </div>"
      ]
     },
     "metadata": {},
     "output_type": "display_data"
    }
   ],
   "source": [
    "plot = px.line_polar(race_parent_level_sp_df.reset_index(),\n",
    "              r='total score',\n",
    "              theta='parental level of education',\n",
    "              color='race/ethnicity', log_r=True,\n",
    "              line_close=True, width=800, height=500,\n",
    "              title='Зависимость успеваемости студентов от ученой степени родителей')\n",
    "plot.show()"
   ]
  },
  {
   "cell_type": "markdown",
   "metadata": {},
   "source": [
    "**Вывод:**  \n",
    "- ожидаемо группа Е показывает лучшие результаты, а группа А в аутсайдерах;\n",
    "- с увеличением ученой степени увеличивается и средний показатель успеваемости студента, но нелинейно, есть отклонение в *high scool*."
   ]
  },
  {
   "cell_type": "markdown",
   "metadata": {},
   "source": [
    "### 2.8. Исследование влияния столового питания на оценки по дисциплинам. <a id=\"section28\"></a>"
   ]
  },
  {
   "cell_type": "code",
   "execution_count": 391,
   "metadata": {},
   "outputs": [
    {
     "data": {
      "image/png": "[encoded data removed]",
      "text/plain": [
       "<Figure size 576x288 with 1 Axes>"
      ]
     },
     "metadata": {},
     "output_type": "display_data"
    }
   ],
   "source": [
    "lunch_sp_df = student_perfomance_df[['lunch', 'math score', 'reading score', 'writing score']].melt(id_vars=['lunch'])\n",
    "cp = sns.catplot('variable', 'value', hue='lunch', kind='box', data=lunch_sp_df, ax=ax)\n",
    "cp.fig.set_size_inches(8, 4)\n",
    "cp.fig.suptitle(x=0.5, y=1.05, t='Влияние столового питания на оценки по дисциплинам', size=15)\n",
    "plt.show()"
   ]
  }
 ],
 "metadata": {
  "kernelspec": {
   "display_name": "Python 3",
   "language": "python",
   "name": "python3"
  },
  "language_info": {
   "codemirror_mode": {
    "name": "ipython",
    "version": 3
   },
   "file_extension": ".py",
   "mimetype": "text/x-python",
   "name": "python",
   "nbconvert_exporter": "python",
   "pygments_lexer": "ipython3",
   "version": "3.7.4"
  }
 },
 "nbformat": 4,
 "nbformat_minor": 4
}
